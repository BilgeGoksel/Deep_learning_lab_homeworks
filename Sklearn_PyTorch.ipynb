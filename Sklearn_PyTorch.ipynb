{
 "cells": [
  {
   "cell_type": "code",
   "execution_count": 1,
   "id": "a8b7c358",
   "metadata": {},
   "outputs": [],
   "source": [
    "import numpy as np\n",
    "import pandas as pd\n",
    "from sklearn.model_selection import train_test_split\n",
    "from sklearn.preprocessing import StandardScaler\n",
    "from sklearn.metrics import accuracy_score, classification_report, confusion_matrix\n",
    "from sklearn.neural_network import MLPClassifier\n",
    "import torch\n",
    "import torch.nn as nn\n",
    "import torch.optim as optim"
   ]
  },
  {
   "cell_type": "markdown",
   "id": "d2feddc7",
   "metadata": {},
   "source": [
    "## Load Dataset"
   ]
  },
  {
   "cell_type": "code",
   "execution_count": 3,
   "id": "a908e336",
   "metadata": {},
   "outputs": [],
   "source": [
    "df = pd.read_csv(\"C:/Users/HP/Desktop/DERSLER/Derin Öğrenme Lab/lab3_12032025/BankNote_Authentication.csv\")\n",
    "df = df.sample(frac=1, random_state=42).reset_index(drop=True)\n",
    "X, y = df.iloc[:, :-1], df.iloc[:, -1]\n",
    "X = X.to_numpy()\n",
    "y = y.to_numpy().reshape(-1, 1)"
   ]
  },
  {
   "cell_type": "markdown",
   "id": "ab8149d8",
   "metadata": {},
   "source": [
    "#### Split and Normalize Data "
   ]
  },
  {
   "cell_type": "code",
   "execution_count": 4,
   "id": "dfd89678",
   "metadata": {},
   "outputs": [],
   "source": [
    "X_train, X_test, y_train, y_test = train_test_split(X, y, test_size=0.2, random_state=42, stratify=y)\n",
    "\n",
    "scaler = StandardScaler()\n",
    "X_train = scaler.fit_transform(X_train)\n",
    "X_test = scaler.transform(X_test)"
   ]
  },
  {
   "cell_type": "markdown",
   "id": "4b96df75",
   "metadata": {},
   "source": [
    "## Scikit-learn MLPClassifier Model"
   ]
  },
  {
   "cell_type": "code",
   "execution_count": 5,
   "id": "19495ae1",
   "metadata": {},
   "outputs": [],
   "source": [
    "mlp_sklearn = MLPClassifier(hidden_layer_sizes=(5, 5), activation='relu', solver='sgd', max_iter=400, random_state=42)\n",
    "mlp_sklearn.fit(X_train, y_train.ravel())\n",
    "y_pred_sklearn = mlp_sklearn.predict(X_test)\n",
    "accuracy_sklearn = accuracy_score(y_test, y_pred_sklearn)\n",
    "conf_matrix_sklearn = confusion_matrix(y_test, y_pred_sklearn)\n",
    "report_sklearn = classification_report(y_test, y_pred_sklearn)"
   ]
  },
  {
   "cell_type": "code",
   "execution_count": 6,
   "id": "5f71f295",
   "metadata": {},
   "outputs": [
    {
     "name": "stdout",
     "output_type": "stream",
     "text": [
      "\n",
      "Scikit-learn MLP Model:\n",
      "Accuracy: 0.9927\n",
      "Confusion Matrix:\n",
      "[[151   2]\n",
      " [  0 122]]\n",
      "Classification Report:\n",
      "              precision    recall  f1-score   support\n",
      "\n",
      "           0       1.00      0.99      0.99       153\n",
      "           1       0.98      1.00      0.99       122\n",
      "\n",
      "    accuracy                           0.99       275\n",
      "   macro avg       0.99      0.99      0.99       275\n",
      "weighted avg       0.99      0.99      0.99       275\n",
      "\n"
     ]
    }
   ],
   "source": [
    "print(\"\\nScikit-learn MLP Model:\")\n",
    "print(f\"Accuracy: {accuracy_sklearn:.4f}\")\n",
    "print(\"Confusion Matrix:\")\n",
    "print(conf_matrix_sklearn)\n",
    "print(\"Classification Report:\")\n",
    "print(report_sklearn)"
   ]
  },
  {
   "cell_type": "markdown",
   "id": "d8d32862",
   "metadata": {},
   "source": [
    "## PyTorch Model "
   ]
  },
  {
   "cell_type": "code",
   "execution_count": 7,
   "id": "e7bc4a6c",
   "metadata": {},
   "outputs": [],
   "source": [
    "class MLP_PyTorch(nn.Module):\n",
    "    def __init__(self, input_size, hidden_layers, output_size=1):\n",
    "        super(MLP_PyTorch, self).__init__()\n",
    "        layers = []\n",
    "        prev_size = input_size\n",
    "        for hidden_size in hidden_layers:\n",
    "            layers.append(nn.Linear(prev_size, hidden_size))\n",
    "            layers.append(nn.ReLU())\n",
    "            prev_size = hidden_size\n",
    "        layers.append(nn.Linear(prev_size, output_size))\n",
    "        layers.append(nn.Sigmoid())\n",
    "        self.network = nn.Sequential(*layers)\n",
    "\n",
    "    def forward(self, x):\n",
    "        return self.network(x)"
   ]
  },
  {
   "cell_type": "code",
   "execution_count": 8,
   "id": "e6edfa82",
   "metadata": {},
   "outputs": [],
   "source": [
    "# Initialize Model\n",
    "torch.manual_seed(42)\n",
    "model_torch = MLP_PyTorch(input_size=X.shape[1], hidden_layers=[5, 5])\n",
    "criterion = nn.BCELoss()\n",
    "optimizer = optim.SGD(model_torch.parameters(), lr=0.1)"
   ]
  },
  {
   "cell_type": "code",
   "execution_count": 9,
   "id": "f2dad7af",
   "metadata": {},
   "outputs": [],
   "source": [
    "X_train_torch = torch.tensor(X_train, dtype=torch.float32)\n",
    "y_train_torch = torch.tensor(y_train, dtype=torch.float32)\n",
    "X_test_torch = torch.tensor(X_test, dtype=torch.float32)\n",
    "y_test_torch = torch.tensor(y_test, dtype=torch.float32)"
   ]
  },
  {
   "cell_type": "markdown",
   "id": "7182c926",
   "metadata": {},
   "source": [
    "### Train PyTorch Model"
   ]
  },
  {
   "cell_type": "code",
   "execution_count": 10,
   "id": "43a38018",
   "metadata": {},
   "outputs": [
    {
     "name": "stdout",
     "output_type": "stream",
     "text": [
      "Epoch 50, Loss: 0.6526\n",
      "Epoch 100, Loss: 0.4628\n",
      "Epoch 150, Loss: 0.2599\n",
      "Epoch 200, Loss: 0.1667\n",
      "Epoch 250, Loss: 0.1224\n",
      "Epoch 300, Loss: 0.0974\n",
      "Epoch 350, Loss: 0.0814\n",
      "Epoch 400, Loss: 0.0703\n"
     ]
    }
   ],
   "source": [
    "for epoch in range(400):\n",
    "    optimizer.zero_grad()\n",
    "    outputs = model_torch(X_train_torch).squeeze()\n",
    "    loss = criterion(outputs, y_train_torch.squeeze())\n",
    "    loss.backward()\n",
    "    optimizer.step()\n",
    "    if (epoch + 1) % 50 == 0:\n",
    "        print(f\"Epoch {epoch+1}, Loss: {loss.item():.4f}\")"
   ]
  },
  {
   "cell_type": "code",
   "execution_count": 11,
   "id": "c16e39b6",
   "metadata": {},
   "outputs": [],
   "source": [
    "# Evaluate PyTorch Model\n",
    "y_pred_torch = (model_torch(X_test_torch).detach().numpy().squeeze() >= 0.5).astype(int)\n",
    "accuracy_torch = accuracy_score(y_test, y_pred_torch)\n",
    "conf_matrix_torch = confusion_matrix(y_test, y_pred_torch)\n",
    "report_torch = classification_report(y_test, y_pred_torch)"
   ]
  },
  {
   "cell_type": "code",
   "execution_count": 12,
   "id": "d18a61ce",
   "metadata": {},
   "outputs": [
    {
     "name": "stdout",
     "output_type": "stream",
     "text": [
      "\n",
      "PyTorch MLP Model:\n",
      "Accuracy: 0.9927\n",
      "Confusion Matrix:\n",
      "[[151   2]\n",
      " [  0 122]]\n",
      "Classification Report:\n",
      "              precision    recall  f1-score   support\n",
      "\n",
      "           0       1.00      0.99      0.99       153\n",
      "           1       0.98      1.00      0.99       122\n",
      "\n",
      "    accuracy                           0.99       275\n",
      "   macro avg       0.99      0.99      0.99       275\n",
      "weighted avg       0.99      0.99      0.99       275\n",
      "\n"
     ]
    }
   ],
   "source": [
    "print(\"\\nPyTorch MLP Model:\")\n",
    "print(f\"Accuracy: {accuracy_torch:.4f}\")\n",
    "print(\"Confusion Matrix:\")\n",
    "print(conf_matrix_torch)\n",
    "print(\"Classification Report:\")\n",
    "print(report_torch)"
   ]
  },
  {
   "cell_type": "code",
   "execution_count": null,
   "id": "6efa2b60",
   "metadata": {},
   "outputs": [],
   "source": []
  }
 ],
 "metadata": {
  "kernelspec": {
   "display_name": "Python 3 (ipykernel)",
   "language": "python",
   "name": "python3"
  },
  "language_info": {
   "codemirror_mode": {
    "name": "ipython",
    "version": 3
   },
   "file_extension": ".py",
   "mimetype": "text/x-python",
   "name": "python",
   "nbconvert_exporter": "python",
   "pygments_lexer": "ipython3",
   "version": "3.11.3"
  }
 },
 "nbformat": 4,
 "nbformat_minor": 5
}
